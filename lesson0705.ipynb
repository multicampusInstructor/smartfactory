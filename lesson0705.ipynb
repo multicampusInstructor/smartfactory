{
 "cells": [
  {
   "cell_type": "code",
   "execution_count": 2,
   "metadata": {},
   "outputs": [],
   "source": [
    "#student_info 를 Abc1115.csv파일에 근거하여 2차원 리스트로 생성\n",
    "file = open('./data/Abc1115.csv','r')\n",
    "lines = file.readlines()\n",
    "file.close()"
   ]
  },
  {
   "cell_type": "code",
   "execution_count": 92,
   "metadata": {},
   "outputs": [],
   "source": [
    "student_info = []\n",
    "for line in lines:\n",
    "    temp = line[:-1].split(',')\n",
    "#     print(temp)\n",
    "    for index in range(8):\n",
    "        if temp[index].strip().isdigit():\n",
    "            temp[index] = int(temp[index])\n",
    "    student_info.append(temp)\n",
    "    pass"
   ]
  },
  {
   "cell_type": "code",
   "execution_count": 4,
   "metadata": {},
   "outputs": [],
   "source": [
    "prop_keys =  {'국어':2,'영어':3,'수학':4,'과학':5,'국사':6,'총점':7,'담임코드':8,'지역코드':10}#국어,영어,수학,과학,국사,총점,담임,지역 -> student_info에 기준"
   ]
  },
  {
   "cell_type": "code",
   "execution_count": 1,
   "metadata": {},
   "outputs": [],
   "source": [
    "def get_avg(code,code_value,subject):\n",
    "    avg = 0.0\n",
    "    \n",
    "    return avg;"
   ]
  },
  {
   "cell_type": "code",
   "execution_count": 9,
   "metadata": {},
   "outputs": [
    {
     "name": "stdout",
     "output_type": "stream",
     "text": [
      "20781 400 51.9525\n"
     ]
    }
   ],
   "source": [
    "#지역코드가 A인 지역의 국어점수 평균은?\n",
    "def get_test(code,code_value,subject):\n",
    "    count = 0\n",
    "    total = 0\n",
    "    for student in student_info:\n",
    "        if student[prop_keys[code]]==code_value:\n",
    "            total = total + student[prop_keys[subject]]\n",
    "            count = count + 1\n",
    "            pass\n",
    "        pass\n",
    "    return total/count\n",
    "\n",
    "# print(total,count,total/count)\n",
    "        "
   ]
  },
  {
   "cell_type": "code",
   "execution_count": 12,
   "metadata": {},
   "outputs": [
    {
     "name": "stdout",
     "output_type": "stream",
     "text": [
      "49.53333333333333\n"
     ]
    }
   ],
   "source": [
    "average = get_test('지역코드','C','국어')\n",
    "print(average)"
   ]
  },
  {
   "cell_type": "code",
   "execution_count": 13,
   "metadata": {},
   "outputs": [],
   "source": [
    "count = 0\n",
    "total = 0\n",
    "for student in student_info:\n",
    "    if student[prop_keys['지역코드']]=='A':\n",
    "        total = total + student[prop_keys['국어']]\n",
    "        count = count + 1\n",
    "        pass\n",
    "    pass"
   ]
  },
  {
   "cell_type": "code",
   "execution_count": 93,
   "metadata": {},
   "outputs": [],
   "source": [
    "#sort=0 (오름차순), sort=1 (내림차순)\n",
    "#start=1, count = 1 \n",
    "def get_select_with_sorting(target,sort=0,start=1,count=1):\n",
    "    print('sort',sort)\n",
    "    result = []\n",
    "    for idx1 in range(len(student_info)-1):\n",
    "        for idx2 in range(idx1+1,len(student_info)):\n",
    "            if sort == 0:\n",
    "                if student_info[idx1][prop_keys[target]] > student_info[idx2][prop_keys[target]]:\n",
    "                    temp = student_info[idx1]\n",
    "                    student_info[idx1] = student_info[idx2]\n",
    "                    student_info[idx2] = temp\n",
    "                    pass\n",
    "            elif sort == 1:\n",
    "                if  student_info[idx1][prop_keys[target]] < student_info[idx2][prop_keys[target]]:\n",
    "                    temp = student_info[idx1]\n",
    "                    student_info[idx1] = student_info[idx2]\n",
    "                    student_info[idx2] = temp\n",
    "                pass\n",
    "            pass\n",
    "    count = start - 1 + count\n",
    "    print('end',count)\n",
    "    result = student_info[start-1:count]\n",
    "                    \n",
    "    \n",
    "    return result"
   ]
  },
  {
   "cell_type": "code",
   "execution_count": 100,
   "metadata": {},
   "outputs": [
    {
     "name": "stdout",
     "output_type": "stream",
     "text": [
      "sort 1\n",
      "end 14\n"
     ]
    }
   ],
   "source": [
    "result = get_select_with_sorting('수학',sort=1,start=10,count=5)"
   ]
  },
  {
   "cell_type": "code",
   "execution_count": 101,
   "metadata": {},
   "outputs": [
    {
     "data": {
      "text/plain": [
       "5"
      ]
     },
     "execution_count": 101,
     "metadata": {},
     "output_type": "execute_result"
    }
   ],
   "source": [
    "len(result)"
   ]
  },
  {
   "cell_type": "code",
   "execution_count": 102,
   "metadata": {},
   "outputs": [
    {
     "name": "stdout",
     "output_type": "stream",
     "text": [
      "[[990870, 'afna', 88, 85, 100, 10, 51, 334, 'A', 'C', 'C'], [990737, 'jsk7', 70, 28, 99, 78, 50, 325, 'C', 'B', 'B'], [990149, 'psj1', 25, 17, 99, 68, 57, 266, 'A', 'B', 'C'], [990200, 'colo', 96, 75, 99, 79, 11, 360, 'B', 'A', 'C'], [990454, 'lore', 71, 69, 99, 49, 91, 379, 'A', 'B', 'B']]\n"
     ]
    }
   ],
   "source": [
    "print(result)"
   ]
  },
  {
   "cell_type": "code",
   "execution_count": null,
   "metadata": {},
   "outputs": [],
   "source": [
    "def get_select_with_sort(target,sort=0,start=1,count=1):\n",
    "    result = []\n",
    "    \n",
    "    return result"
   ]
  }
 ],
 "metadata": {
  "kernelspec": {
   "display_name": "Python 3",
   "language": "python",
   "name": "python3"
  },
  "language_info": {
   "codemirror_mode": {
    "name": "ipython",
    "version": 3
   },
   "file_extension": ".py",
   "mimetype": "text/x-python",
   "name": "python",
   "nbconvert_exporter": "python",
   "pygments_lexer": "ipython3",
   "version": "3.7.1"
  }
 },
 "nbformat": 4,
 "nbformat_minor": 2
}
