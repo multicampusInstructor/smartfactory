{
 "cells": [
  {
   "cell_type": "code",
   "execution_count": 2,
   "metadata": {},
   "outputs": [],
   "source": [
    "def view_calendar_v3(month):\n",
    "    print(\"2022년 {}월\".format(month))\n",
    "    print(\"일\\t월\\t화\\t수\\t목\\t금\\t토\")\n",
    "    space = [6,2,2,5,0,3,5,1,4,6,2,4]\n",
    "    last_day = [31,28,31,30,31,30,31,31,30,31,30,31]\n",
    "    for _ in range(space[month-1]):\n",
    "        print(\"\\t\",end='')\n",
    "    for n in range(1,last_day[month-1]+1):\n",
    "        print(n,\"\\t\",end='')#1~30\n",
    "        if (n+space[month-1]) % 7 == 0:\n",
    "            print()"
   ]
  },
  {
   "cell_type": "code",
   "execution_count": 44,
   "metadata": {},
   "outputs": [],
   "source": [
    "import calendar\n",
    "def view_calendar_complete(year,month):\n",
    "    print(\"{}년 {}월\".format(year,month))\n",
    "    print(\"일\\t월\\t화\\t수\\t목\\t금\\t토\")\n",
    "    cal_data = calendar.monthrange(year,month)\n",
    "    space = (cal_data[0] + 1)%7\n",
    "    last_day = cal_data[1]\n",
    "    for _ in range(space):\n",
    "        print(\"\\t\",end='')\n",
    "    for n in range(1,last_day+1):\n",
    "        print(n,\"\\t\",end='')#1~30\n",
    "        if (n+space) % 7 == 0:\n",
    "            print()"
   ]
  },
  {
   "cell_type": "code",
   "execution_count": 45,
   "metadata": {},
   "outputs": [
    {
     "name": "stdout",
     "output_type": "stream",
     "text": [
      "2022년 5월\n",
      "일\t월\t화\t수\t목\t금\t토\n",
      "1 \t2 \t3 \t4 \t5 \t6 \t7 \t\n",
      "8 \t9 \t10 \t11 \t12 \t13 \t14 \t\n",
      "15 \t16 \t17 \t18 \t19 \t20 \t21 \t\n",
      "22 \t23 \t24 \t25 \t26 \t27 \t28 \t\n",
      "29 \t30 \t31 \t"
     ]
    }
   ],
   "source": [
    "view_calendar_complete(2022,5)"
   ]
  },
  {
   "cell_type": "code",
   "execution_count": 14,
   "metadata": {},
   "outputs": [],
   "source": [
    "def calendar_service():\n",
    "    while True:\n",
    "        month = input('원하는 월 [1년치는 13을 입력하시오]을 입력하세요 >>> ')\n",
    "        #판별\n",
    "        if month not in ['1','2','3','4','5','6','7','8','9','10','11','12','13']:\n",
    "            print('잘못된 입력입니다.{1~13 사이의 값을 입력하세요}')\n",
    "            continue\n",
    "        month = int(month)\n",
    "        if month == 13:\n",
    "            for i in range(1,month):\n",
    "                view_calendar_v3(i)\n",
    "                print(\"\\n\")\n",
    "                pass\n",
    "            pass\n",
    "        else : \n",
    "            view_calendar_v3(month)\n",
    "            print()\n",
    "        is_go = input('계속하시겠습니까? [1:yes 0:no] >>> ')\n",
    "        if is_go != '1': #멈추는 조건는 사용자로 부터 받는다.\n",
    "            print(\"사용해 주셔서 감사합니다.\")\n",
    "            break\n",
    "        \n",
    "    "
   ]
  },
  {
   "cell_type": "code",
   "execution_count": 17,
   "metadata": {},
   "outputs": [
    {
     "name": "stdout",
     "output_type": "stream",
     "text": [
      "원하는 월 [1년치는 13을 입력하시오]을 입력하세요 >>> 1\n",
      "2022년 1월\n",
      "일\t월\t화\t수\t목\t금\t토\n",
      "\t\t\t\t\t\t1 \t\n",
      "2 \t3 \t4 \t5 \t6 \t7 \t8 \t\n",
      "9 \t10 \t11 \t12 \t13 \t14 \t15 \t\n",
      "16 \t17 \t18 \t19 \t20 \t21 \t22 \t\n",
      "23 \t24 \t25 \t26 \t27 \t28 \t29 \t\n",
      "30 \t31 \t\n",
      "계속하시겠습니까? [1:yes 0:no] >>> 0\n",
      "사용해 주셔서 감사합니다.\n"
     ]
    }
   ],
   "source": [
    "calendar_service()"
   ]
  },
  {
   "cell_type": "code",
   "execution_count": 18,
   "metadata": {},
   "outputs": [],
   "source": [
    "import datetime"
   ]
  },
  {
   "cell_type": "code",
   "execution_count": 19,
   "metadata": {},
   "outputs": [
    {
     "name": "stdout",
     "output_type": "stream",
     "text": [
      "2022-06-30 11:06:24.920242\n"
     ]
    }
   ],
   "source": [
    "current_datetime = datetime.datetime.now()\n",
    "print(current_datetime)"
   ]
  },
  {
   "cell_type": "code",
   "execution_count": 21,
   "metadata": {},
   "outputs": [
    {
     "data": {
      "text/plain": [
       "'2022/06/30 11:06:24'"
      ]
     },
     "execution_count": 21,
     "metadata": {},
     "output_type": "execute_result"
    }
   ],
   "source": [
    "current_datetime.strftime(\"%Y/%m/%d %H:%M:%S\")"
   ]
  },
  {
   "cell_type": "code",
   "execution_count": 24,
   "metadata": {},
   "outputs": [
    {
     "data": {
      "text/plain": [
       "datetime.datetime(2022, 6, 30, 11, 10, 54, 767676)"
      ]
     },
     "execution_count": 24,
     "metadata": {},
     "output_type": "execute_result"
    }
   ],
   "source": [
    "from datetime import datetime\n",
    "a = datetime.now()\n",
    "datetime.now()"
   ]
  },
  {
   "cell_type": "code",
   "execution_count": 28,
   "metadata": {},
   "outputs": [
    {
     "name": "stdout",
     "output_type": "stream",
     "text": [
      "2022\n",
      "6\n",
      "30\n",
      "11\n",
      "10\n",
      "54\n",
      "date:  2022-06-30\n"
     ]
    }
   ],
   "source": [
    "print(a.year)\n",
    "print(a.month)\n",
    "print(a.day)\n",
    "print(a.hour)\n",
    "print(a.minute)\n",
    "print(a.second)\n",
    "print('date: ',a.date())"
   ]
  },
  {
   "cell_type": "code",
   "execution_count": 29,
   "metadata": {},
   "outputs": [],
   "source": [
    "import calendar"
   ]
  },
  {
   "cell_type": "code",
   "execution_count": 33,
   "metadata": {},
   "outputs": [
    {
     "name": "stdout",
     "output_type": "stream",
     "text": [
      "(2, 30)\n",
      "2\n",
      "30\n"
     ]
    }
   ],
   "source": [
    "cal_data = calendar.monthrange(2022,6)\n",
    "print(cal_data)\n",
    "print(cal_data[0])\n",
    "print(cal_data[1])"
   ]
  },
  {
   "cell_type": "code",
   "execution_count": 32,
   "metadata": {},
   "outputs": [
    {
     "name": "stdout",
     "output_type": "stream",
     "text": [
      "2\n",
      "30\n"
     ]
    }
   ],
   "source": [
    "a,b = calendar.monthrange(2022,6)\n",
    "print(a)\n",
    "print(b)"
   ]
  },
  {
   "cell_type": "code",
   "execution_count": 54,
   "metadata": {},
   "outputs": [
    {
     "name": "stdout",
     "output_type": "stream",
     "text": [
      "['kim', 20, 30, 50, 100]\n",
      "['lee', 30, 90, 80, 200]\n",
      "['park', 87, 38, 55, 180]\n"
     ]
    }
   ],
   "source": [
    "kim = \"kim,20,30,50\"\n",
    "lee = \"lee,30,90,80\"\n",
    "park = \"park,87,38,55\"\n",
    "score_cards = []\n",
    "# 각 변수의 내용을 ,로 분리한 후 리스트로 만들어\n",
    "#score_cards에 저장하는 코드 작성\n",
    "for stu in [kim,lee,park]:\n",
    "    temp = stu.split(',')\n",
    "    #temp안의 점수를 정수형으로 변경하는 코드 작성\n",
    "    for num in range(1,4):\n",
    "        temp[num] = int(temp[num])\n",
    "    temp.append(temp[1]+temp[2]+temp[3])    \n",
    "    score_cards.append(temp)\n",
    "    pass\n",
    " \n",
    "#print(score_cards)\n",
    "for card in score_cards:\n",
    "    print(card)"
   ]
  },
  {
   "cell_type": "code",
   "execution_count": 55,
   "metadata": {},
   "outputs": [],
   "source": [
    "#3학생의 국어점수(첫번째 점수)의 합과 평균을 작성하시오"
   ]
  },
  {
   "cell_type": "code",
   "execution_count": 57,
   "metadata": {},
   "outputs": [],
   "source": [
    "def calcu_subject_total():\n",
    "    total = 0\n",
    "    for i in range(3):\n",
    "        total = total + score_cards[i][1]\n",
    "        pass\n",
    "\n",
    "    return total\n",
    "    "
   ]
  },
  {
   "cell_type": "code",
   "execution_count": 58,
   "metadata": {},
   "outputs": [
    {
     "data": {
      "text/plain": [
       "137"
      ]
     },
     "execution_count": 58,
     "metadata": {},
     "output_type": "execute_result"
    }
   ],
   "source": [
    "calcu_subject_total()"
   ]
  },
  {
   "cell_type": "code",
   "execution_count": 61,
   "metadata": {},
   "outputs": [],
   "source": [
    "def calcu_subject_total_v2(subject):\n",
    "    total = 0\n",
    "    for i in range(len(score_cards)):\n",
    "        total = total + score_cards[i][subject]\n",
    "        pass\n",
    "\n",
    "    return total"
   ]
  },
  {
   "cell_type": "code",
   "execution_count": 60,
   "metadata": {},
   "outputs": [
    {
     "data": {
      "text/plain": [
       "5"
      ]
     },
     "execution_count": 60,
     "metadata": {},
     "output_type": "execute_result"
    }
   ],
   "source": [
    "len(score_cards[0])"
   ]
  },
  {
   "cell_type": "code",
   "execution_count": 62,
   "metadata": {},
   "outputs": [
    {
     "data": {
      "text/plain": [
       "158"
      ]
     },
     "execution_count": 62,
     "metadata": {},
     "output_type": "execute_result"
    }
   ],
   "source": [
    "calcu_subject_total_v2(2)\n"
   ]
  },
  {
   "cell_type": "code",
   "execution_count": 72,
   "metadata": {},
   "outputs": [],
   "source": [
    "subject= {'국어':1,'영어':2,'수학':3}"
   ]
  },
  {
   "cell_type": "code",
   "execution_count": 73,
   "metadata": {},
   "outputs": [
    {
     "name": "stdout",
     "output_type": "stream",
     "text": [
      "2\n"
     ]
    }
   ],
   "source": [
    "len(subject)\n",
    "print(subject['영어'])"
   ]
  },
  {
   "cell_type": "code",
   "execution_count": 74,
   "metadata": {},
   "outputs": [],
   "source": [
    "def calcu_subject_total_v3(subject_name):\n",
    "    total = 0\n",
    "    subject_idx = subject[subject_name]\n",
    "    print(subject_idx)\n",
    "    for i in range(len(score_cards)):\n",
    "        total = total + score_cards[i][subject_idx]\n",
    "        pass\n",
    "\n",
    "    return total"
   ]
  },
  {
   "cell_type": "code",
   "execution_count": 77,
   "metadata": {},
   "outputs": [
    {
     "name": "stdout",
     "output_type": "stream",
     "text": [
      "2\n"
     ]
    },
    {
     "data": {
      "text/plain": [
       "158"
      ]
     },
     "execution_count": 77,
     "metadata": {},
     "output_type": "execute_result"
    }
   ],
   "source": [
    "calcu_subject_total_v3('영어')"
   ]
  },
  {
   "cell_type": "code",
   "execution_count": null,
   "metadata": {},
   "outputs": [],
   "source": []
  }
 ],
 "metadata": {
  "kernelspec": {
   "display_name": "Python 3",
   "language": "python",
   "name": "python3"
  },
  "language_info": {
   "codemirror_mode": {
    "name": "ipython",
    "version": 3
   },
   "file_extension": ".py",
   "mimetype": "text/x-python",
   "name": "python",
   "nbconvert_exporter": "python",
   "pygments_lexer": "ipython3",
   "version": "3.7.1"
  }
 },
 "nbformat": 4,
 "nbformat_minor": 2
}
