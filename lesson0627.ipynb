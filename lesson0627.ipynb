{
 "cells": [
  {
   "cell_type": "code",
   "execution_count": 1,
   "metadata": {},
   "outputs": [
    {
     "data": {
      "text/plain": [
       "'hello! python~'"
      ]
     },
     "execution_count": 1,
     "metadata": {},
     "output_type": "execute_result"
    }
   ],
   "source": [
    "\"hello! python~\""
   ]
  },
  {
   "cell_type": "code",
   "execution_count": 2,
   "metadata": {},
   "outputs": [
    {
     "name": "stdout",
     "output_type": "stream",
     "text": [
      "hello! python~\n"
     ]
    }
   ],
   "source": [
    "print(\"hello! python~\")"
   ]
  },
  {
   "cell_type": "code",
   "execution_count": 11,
   "metadata": {},
   "outputs": [
    {
     "name": "stdout",
     "output_type": "stream",
     "text": [
      "\t\t\t2022년 5월\n",
      "일\t월\t화\t수\t목\t금\t토\n",
      "1\t2\t3\t4\t5\t6\t7\n",
      "8\t9\t10\t11\t12\t13\t14\n",
      "15\t16\t17\t18\t19\t20\t21\n",
      "22\t23\t24\t25\t26\t27\t28\n",
      "29\t30\t31\n"
     ]
    }
   ],
   "source": [
    "print(\"\\t\\t\\t2022년 5월\")\n",
    "print(\"일\\t월\\t화\\t수\\t목\\t금\\t토\")\n",
    "print(\"1\\t2\\t3\\t4\\t5\\t6\\t7\")\n",
    "print(\"8\\t9\\t10\\t11\\t12\\t13\\t14\")\n",
    "print(\"15\\t16\\t17\\t18\\t19\\t20\\t21\")\n",
    "print(\"22\\t23\\t24\\t25\\t26\\t27\\t28\")\n",
    "print(\"29\\t30\\t31\")"
   ]
  },
  {
   "cell_type": "code",
   "execution_count": 30,
   "metadata": {},
   "outputs": [
    {
     "name": "stdout",
     "output_type": "stream",
     "text": [
      "\t\t\t2022년 5월\n",
      "일\t월\t화\t수\t목\t금\t토\n",
      "1 \t2 \t3 \t4 \t5 \t6 \t7 \t\n",
      "8 \t9 \t10 \t11 \t12 \t13 \t14 \t\n",
      "15 \t16 \t17 \t18 \t19 \t20 \t21 \t\n",
      "22 \t23 \t24 \t25 \t26 \t27 \t28 \t\n",
      "29 \t30 \t31 \ta\n"
     ]
    }
   ],
   "source": [
    "day = 1\n",
    "print(\"\\t\\t\\t2022년 5월\")\n",
    "print(\"일\\t월\\t화\\t수\\t목\\t금\\t토\")\n",
    "for i in range(1,32):\n",
    "    day = i\n",
    "    print(day,\"\\t\",end='')#n=1~31\n",
    "    if day == 7:\n",
    "        print()\n",
    "    if day == 14:\n",
    "        print()\n",
    "    if day == 21:\n",
    "        print()\n",
    "    if day == 28:\n",
    "        print()\n",
    "print('a')"
   ]
  },
  {
   "cell_type": "code",
   "execution_count": 21,
   "metadata": {},
   "outputs": [
    {
     "name": "stdout",
     "output_type": "stream",
     "text": [
      "1\n",
      "2\n",
      "3\n",
      "4\n",
      "5\n",
      "6\n",
      "7\n",
      "8\n",
      "9\n",
      "10\n"
     ]
    }
   ],
   "source": [
    "#1~10까지 출력하는 코드(문장) 작성하시오\n",
    "print(1)\n",
    "print(2)\n",
    "print(3)\n",
    "print(4)\n",
    "print(5)\n",
    "print(6)\n",
    "print(7)\n",
    "print(8)\n",
    "print(9)\n",
    "print(10)"
   ]
  },
  {
   "cell_type": "code",
   "execution_count": 33,
   "metadata": {},
   "outputs": [],
   "source": [
    "def printRange(n1,n2):\n",
    "    number = 0\n",
    "    num1 = n1\n",
    "    num2 = n2\n",
    "    for i in range(num1,num2):\n",
    "        number = i\n",
    "        print(number)"
   ]
  },
  {
   "cell_type": "code",
   "execution_count": 35,
   "metadata": {
    "scrolled": false
   },
   "outputs": [
    {
     "name": "stdout",
     "output_type": "stream",
     "text": [
      "11\n",
      "12\n",
      "13\n",
      "14\n",
      "15\n",
      "16\n",
      "17\n",
      "18\n",
      "19\n"
     ]
    }
   ],
   "source": [
    "printRange(11,20)\n",
    "#프로그램 작성시 해야할 2가지 작업은?\n",
    "#고정제거 --> 변수\n",
    "#반복제거 --> 반복문(for)\n",
    "#어떤 한 문장을 실행할 지 안할지 결정하는 것은 조건문이다.(if)"
   ]
  },
  {
   "cell_type": "code",
   "execution_count": 23,
   "metadata": {},
   "outputs": [
    {
     "name": "stdout",
     "output_type": "stream",
     "text": [
      "1\n",
      "2\n",
      "3\n",
      "4\n",
      "5\n",
      "6\n",
      "7\n",
      "8\n",
      "9\n",
      "10\n"
     ]
    }
   ],
   "source": [
    "#1~10까지 출력하는 코드(문장) 작성하시오\n",
    "for i in range(1,11):\n",
    "    print(i)"
   ]
  },
  {
   "cell_type": "code",
   "execution_count": 37,
   "metadata": {},
   "outputs": [
    {
     "name": "stdout",
     "output_type": "stream",
     "text": [
      "30\n",
      "-10\n",
      "200\n",
      "0.5\n",
      "0\n"
     ]
    }
   ],
   "source": [
    "a = 10\n",
    "b = 20\n",
    "print(a+b)\n",
    "print(a-b)\n",
    "print(a*b)\n",
    "print(a/b)\n",
    "print(a//b)"
   ]
  },
  {
   "cell_type": "code",
   "execution_count": 38,
   "metadata": {},
   "outputs": [
    {
     "name": "stdout",
     "output_type": "stream",
     "text": [
      "10\n"
     ]
    }
   ],
   "source": [
    "print(a%b)"
   ]
  },
  {
   "cell_type": "code",
   "execution_count": 47,
   "metadata": {},
   "outputs": [
    {
     "name": "stdout",
     "output_type": "stream",
     "text": [
      "928\n",
      "8\n",
      "2\n",
      "9\n"
     ]
    }
   ],
   "source": [
    "number = 928\n",
    "print(number)\n",
    "#십진수의 마지막 숫자를 분리하는 방법은 10으로 나누어 나머지를 구한다.\n",
    "#주어진 수의 분리는 끝에 있는 수를 나머지로 하나씩 구하는 방법을 쓴다.\n",
    "#분리한 수 앞의 숫자 분리는 앞의 숫자를 마지막 숫자로 만든 후 나머지를 구하는\n",
    "#방법을 사용한다.\n",
    "#3 (123)\n",
    "for _ in range(3):\n",
    "    split_number = number % 10\n",
    "    print(split_number)\n",
    "    number = number // 10\n",
    "    \n",
    "# #2(12)\n",
    "# split_number = number % 10\n",
    "# print(split_number)\n",
    "# number = number // 10\n",
    "# #1(1)\n",
    "# split_number = number % 10\n",
    "# print(split_number)"
   ]
  },
  {
   "cell_type": "code",
   "execution_count": 40,
   "metadata": {},
   "outputs": [
    {
     "name": "stdout",
     "output_type": "stream",
     "text": [
      "3\n"
     ]
    }
   ],
   "source": [
    "print(number%10)"
   ]
  },
  {
   "cell_type": "code",
   "execution_count": 41,
   "metadata": {},
   "outputs": [
    {
     "name": "stdout",
     "output_type": "stream",
     "text": [
      "12\n"
     ]
    }
   ],
   "source": [
    "print(number//10)"
   ]
  },
  {
   "cell_type": "code",
   "execution_count": null,
   "metadata": {},
   "outputs": [],
   "source": []
  },
  {
   "cell_type": "code",
   "execution_count": null,
   "metadata": {},
   "outputs": [],
   "source": []
  },
  {
   "cell_type": "code",
   "execution_count": null,
   "metadata": {},
   "outputs": [],
   "source": []
  },
  {
   "cell_type": "code",
   "execution_count": null,
   "metadata": {},
   "outputs": [],
   "source": []
  }
 ],
 "metadata": {
  "kernelspec": {
   "display_name": "Python 3",
   "language": "python",
   "name": "python3"
  },
  "language_info": {
   "codemirror_mode": {
    "name": "ipython",
    "version": 3
   },
   "file_extension": ".py",
   "mimetype": "text/x-python",
   "name": "python",
   "nbconvert_exporter": "python",
   "pygments_lexer": "ipython3",
   "version": "3.7.1"
  }
 },
 "nbformat": 4,
 "nbformat_minor": 2
}
