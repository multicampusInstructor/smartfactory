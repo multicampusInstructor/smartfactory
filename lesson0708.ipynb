{
 "cells": [
  {
   "cell_type": "code",
   "execution_count": 2,
   "metadata": {},
   "outputs": [],
   "source": [
    "file = open('./data/Abc1115.csv','r')\n",
    "lines = file.readlines() #line 을 모두 가져온다.\n",
    "file.close()"
   ]
  },
  {
   "cell_type": "code",
   "execution_count": 3,
   "metadata": {},
   "outputs": [
    {
     "data": {
      "text/plain": [
       "1000"
      ]
     },
     "execution_count": 3,
     "metadata": {},
     "output_type": "execute_result"
    }
   ],
   "source": [
    "len(lines)"
   ]
  },
  {
   "cell_type": "code",
   "execution_count": 10,
   "metadata": {},
   "outputs": [
    {
     "data": {
      "text/plain": [
       "['990001,addx, 17, 29, 16, 49, 43,154,C,A,C\\n',\n",
       " '990002,stch, 30,  9, 48, 25, 81,193,C,A,A\\n',\n",
       " '990003,gali, 93, 60,  6, 84, 36,279,A,C,A\\n']"
      ]
     },
     "execution_count": 10,
     "metadata": {},
     "output_type": "execute_result"
    }
   ],
   "source": [
    "lines[0:3]"
   ]
  },
  {
   "cell_type": "code",
   "execution_count": 16,
   "metadata": {},
   "outputs": [
    {
     "name": "stdout",
     "output_type": "stream",
     "text": [
      "['990001', 'addx', ' 17', ' 29', ' 16', ' 49', ' 43', '154', 'C', 'A', 'C']\n",
      "990001\n",
      "17\n",
      "29\n",
      "16\n",
      "49\n",
      "43\n",
      "154\n",
      "['990001', 'addx', ' 17', ' 29', ' 16', ' 49', ' 43', '154', 'C', 'A', 'C']\n"
     ]
    }
   ],
   "source": [
    "temp = lines[0][0:-1].split(',')\n",
    "print(temp)\n",
    "for val in temp[:8]:\n",
    "    val = val.strip()\n",
    "    if val.isdigit():\n",
    "        print(val)\n",
    "        pass\n",
    "    pass\n",
    "\n",
    "print(temp)"
   ]
  },
  {
   "cell_type": "code",
   "execution_count": 20,
   "metadata": {},
   "outputs": [
    {
     "name": "stdout",
     "output_type": "stream",
     "text": [
      "1000\n"
     ]
    }
   ],
   "source": [
    "student_info = []\n",
    "for n in range(1000):\n",
    "    temp = lines[n][0:-1].split(',')\n",
    "    #print(temp)\n",
    "    for index in range(8):\n",
    "        val = temp[index].strip()\n",
    "        if val.isdigit():\n",
    "#             print(val)\n",
    "            temp[index] = int(val)\n",
    "            pass\n",
    "        pass\n",
    "    student_info.append(temp)\n",
    "\n",
    "print(len(student_info))"
   ]
  },
  {
   "cell_type": "code",
   "execution_count": 21,
   "metadata": {},
   "outputs": [
    {
     "data": {
      "text/plain": [
       "[[990001, 'addx', 17, 29, 16, 49, 43, 154, 'C', 'A', 'C'],\n",
       " [990002, 'stch', 30, 9, 48, 25, 81, 193, 'C', 'A', 'A'],\n",
       " [990003, 'gali', 93, 60, 6, 84, 36, 279, 'A', 'C', 'A'],\n",
       " [990004, 'miat', 73, 22, 48, 24, 72, 239, 'B', 'C', 'C'],\n",
       " [990005, 'oran', 33, 38, 59, 58, 28, 216, 'C', 'B', 'A'],\n",
       " [990006, 'sj24', 27, 65, 54, 77, 33, 256, 'B', 'A', 'A'],\n",
       " [990007, 'kor2', 33, 85, 98, 60, 66, 342, 'A', 'B', 'A'],\n",
       " [990008, 'vsky', 41, 5, 99, 14, 67, 226, 'C', 'A', 'C'],\n",
       " [990009, 'kimd', 74, 4, 1, 33, 53, 165, 'B', 'C', 'A'],\n",
       " [990010, 'blue', 55, 84, 50, 89, 37, 315, 'A', 'B', 'A']]"
      ]
     },
     "execution_count": 21,
     "metadata": {},
     "output_type": "execute_result"
    }
   ],
   "source": [
    "student_info[0:10]"
   ]
  },
  {
   "cell_type": "code",
   "execution_count": 22,
   "metadata": {},
   "outputs": [
    {
     "data": {
      "text/plain": [
       "1000"
      ]
     },
     "execution_count": 22,
     "metadata": {},
     "output_type": "execute_result"
    }
   ],
   "source": [
    "len(student_info)"
   ]
  },
  {
   "cell_type": "code",
   "execution_count": 27,
   "metadata": {},
   "outputs": [],
   "source": [
    "a = [1,2,3]\n",
    "b = [2,3,4]\n",
    "c = [3,4,5]"
   ]
  },
  {
   "cell_type": "code",
   "execution_count": 28,
   "metadata": {},
   "outputs": [],
   "source": [
    "mylist = [a,b,c]"
   ]
  },
  {
   "cell_type": "code",
   "execution_count": 29,
   "metadata": {},
   "outputs": [
    {
     "data": {
      "text/plain": [
       "[[1, 2, 3], [2, 3, 4], [3, 4, 5]]"
      ]
     },
     "execution_count": 29,
     "metadata": {},
     "output_type": "execute_result"
    }
   ],
   "source": [
    "mylist"
   ]
  },
  {
   "cell_type": "code",
   "execution_count": 30,
   "metadata": {},
   "outputs": [
    {
     "data": {
      "text/plain": [
       "3"
      ]
     },
     "execution_count": 30,
     "metadata": {},
     "output_type": "execute_result"
    }
   ],
   "source": [
    "len(mylist)"
   ]
  },
  {
   "cell_type": "code",
   "execution_count": 32,
   "metadata": {},
   "outputs": [
    {
     "data": {
      "text/plain": [
       "2"
      ]
     },
     "execution_count": 32,
     "metadata": {},
     "output_type": "execute_result"
    }
   ],
   "source": [
    "mylist[0][1]"
   ]
  },
  {
   "cell_type": "code",
   "execution_count": 33,
   "metadata": {},
   "outputs": [
    {
     "data": {
      "text/plain": [
       "1"
      ]
     },
     "execution_count": 33,
     "metadata": {},
     "output_type": "execute_result"
    }
   ],
   "source": [
    "student_info[200][2]#인덱스2번은 국어점수"
   ]
  },
  {
   "cell_type": "code",
   "execution_count": 34,
   "metadata": {},
   "outputs": [
    {
     "name": "stdout",
     "output_type": "stream",
     "text": [
      "50.026\n"
     ]
    }
   ],
   "source": [
    "total = 0\n",
    "for idx in range(1000):\n",
    "    total = total + student_info[idx][2]\n",
    "    pass\n",
    "average = total/1000\n",
    "print(average)"
   ]
  },
  {
   "cell_type": "code",
   "execution_count": 35,
   "metadata": {},
   "outputs": [
    {
     "name": "stdout",
     "output_type": "stream",
     "text": [
      "50.026\n"
     ]
    }
   ],
   "source": [
    "total = 0\n",
    "for line in student_info:\n",
    "    total = total + line[2]\n",
    "    pass\n",
    "average = total/1000\n",
    "print(average)"
   ]
  },
  {
   "cell_type": "code",
   "execution_count": 36,
   "metadata": {},
   "outputs": [],
   "source": [
    "#해당과목의 평균을 구한다.\n",
    "def get_subject_avg(subject):\n",
    "    average = None\n",
    "    total = 0\n",
    "    for line in student_info:\n",
    "        total = total + line[subject]\n",
    "        pass\n",
    "    average = total/1000\n",
    "    return average"
   ]
  },
  {
   "cell_type": "code",
   "execution_count": 38,
   "metadata": {},
   "outputs": [
    {
     "name": "stdout",
     "output_type": "stream",
     "text": [
      "50.0\n"
     ]
    }
   ],
   "source": [
    "result = get_subject_avg(2)\n",
    "print(\"{:.1f}\".format(result))"
   ]
  },
  {
   "cell_type": "code",
   "execution_count": 39,
   "metadata": {},
   "outputs": [],
   "source": [
    "subject_keys = {'국어':2,'영어':3,'수학':4,'과학':5,'국사':6,'총점':7}"
   ]
  },
  {
   "cell_type": "code",
   "execution_count": 40,
   "metadata": {},
   "outputs": [],
   "source": [
    "#해당과목의 평균을 구한다.\n",
    "def get_subject_avg_v2(subject): #subject는 인덱스가 아닌 과목명\n",
    "    average = None\n",
    "    #subject가 인덱스로 변경되어야 함.\n",
    "    index = subject_keys[subject]\n",
    "    total = 0\n",
    "    for line in student_info:\n",
    "        total = total + line[index]\n",
    "        pass\n",
    "    average = total/1000\n",
    "    return average"
   ]
  },
  {
   "cell_type": "code",
   "execution_count": 43,
   "metadata": {},
   "outputs": [
    {
     "name": "stdout",
     "output_type": "stream",
     "text": [
      "50.9\n"
     ]
    }
   ],
   "source": [
    "result = get_subject_avg_v2('국사')\n",
    "print(\"{:.1f}\".format(result))"
   ]
  },
  {
   "cell_type": "code",
   "execution_count": 47,
   "metadata": {},
   "outputs": [],
   "source": [
    "#지역코드에 따른 과목의 평균구하기\n",
    "def get_subject_avg_v3(code_value,subject): #subject는 인덱스가 아닌 과목명\n",
    "    average = None\n",
    "    #subject가 인덱스로 변경되어야 함.\n",
    "    index = subject_keys[subject]\n",
    "    total = 0\n",
    "    count = 0\n",
    "    for line in student_info:\n",
    "        if line[10] == code_value:\n",
    "            total = total + line[index]\n",
    "            count = count + 1\n",
    "            pass\n",
    "    average = total/count\n",
    "    return average"
   ]
  },
  {
   "cell_type": "code",
   "execution_count": 48,
   "metadata": {},
   "outputs": [
    {
     "name": "stdout",
     "output_type": "stream",
     "text": [
      "50.13333333333333\n"
     ]
    }
   ],
   "source": [
    "result = get_subject_avg_v3('C','과학')\n",
    "print(result)"
   ]
  },
  {
   "cell_type": "code",
   "execution_count": 50,
   "metadata": {},
   "outputs": [],
   "source": [
    "#중간결과로서 리스트의 일부분을 필요로 한다.\n",
    "#어떤 과목점수가 90점 이상인 학생들 정보\n",
    "def get_student_list(subject): #subject는 인덱스가 아닌 과목명\n",
    "    student_list = []\n",
    "    #subject가 인덱스로 변경되어야 함.\n",
    "    index = subject_keys[subject]\n",
    "    for line in student_info:\n",
    "        if line[index]>= 90:\n",
    "            student_list.append(line)\n",
    "        pass\n",
    "    return student_list"
   ]
  },
  {
   "cell_type": "code",
   "execution_count": 56,
   "metadata": {},
   "outputs": [
    {
     "name": "stdout",
     "output_type": "stream",
     "text": [
      "105\n",
      "[[990003, 'gali', 93, 60, 6, 84, 36, 279, 'A', 'C', 'A'], [990019, 'popy', 95, 65, 65, 29, 75, 329, 'B', 'A', 'C'], [990032, 'sonn', 90, 18, 84, 18, 80, 290, 'C', 'B', 'B'], [990033, 'mrsw', 90, 71, 9, 16, 57, 243, 'B', 'C', 'A'], [990034, 'soyo', 100, 39, 44, 89, 88, 360, 'A', 'C', 'A'], [990043, 'ksg6', 90, 13, 19, 22, 91, 235, 'A', 'B', 'C'], [990044, 'lks5', 91, 12, 4, 73, 13, 193, 'A', 'B', 'A'], [990051, 'soor', 94, 98, 85, 64, 75, 416, 'A', 'B', 'A'], [990052, 'onta', 95, 1, 69, 84, 42, 291, 'B', 'C', 'B'], [990063, 'bank', 98, 50, 77, 27, 83, 335, 'C', 'A', 'C']]\n"
     ]
    }
   ],
   "source": [
    "for subject in subject_keys:\n",
    "    student_list = get_student_list(subject)\n",
    "    print(len(student_list))\n",
    "    print(student_list[:10])\n",
    "    break"
   ]
  },
  {
   "cell_type": "code",
   "execution_count": 57,
   "metadata": {},
   "outputs": [
    {
     "name": "stdout",
     "output_type": "stream",
     "text": [
      "[1, 3, 20, 41, 56, 68, 69, 84, 89, 90]\n"
     ]
    }
   ],
   "source": [
    "test_numbers = [56,1,84,89,20,41,3,69,90,68]\n",
    "#target수의 변화\n",
    "for num1 in range(len(test_numbers)-1):\n",
    "    #check number의 변화\n",
    "    for num2 in range(num1+1,len(test_numbers)):\n",
    "        if test_numbers[num1] > test_numbers[num2]:\n",
    "            temp = test_numbers[num1]\n",
    "            test_numbers[num1] = test_numbers[num2]\n",
    "            test_numbers[num2] = temp\n",
    "            pass\n",
    "        pass\n",
    "    pass\n",
    "\n",
    "print(test_numbers)\n",
    "        "
   ]
  },
  {
   "cell_type": "code",
   "execution_count": 67,
   "metadata": {},
   "outputs": [],
   "source": [
    "test_numbers = [56,1,84,89,20,41,3,69,90,68]"
   ]
  },
  {
   "cell_type": "code",
   "execution_count": 73,
   "metadata": {},
   "outputs": [
    {
     "name": "stdout",
     "output_type": "stream",
     "text": [
      "[1, 3, 20, 41, 56, 68, 69, 84, 89, 90]\n",
      "result =  [1, 3, 20, 41, 56, 68, 69, 84, 89, 90]\n"
     ]
    }
   ],
   "source": [
    "print(test_numbers)\n",
    "a = sorted(test_numbers)\n",
    "print('result = ',a)"
   ]
  },
  {
   "cell_type": "code",
   "execution_count": 70,
   "metadata": {},
   "outputs": [
    {
     "name": "stdout",
     "output_type": "stream",
     "text": [
      "[56, 1, 84, 89, 20, 41, 3, 69, 90, 68]\n"
     ]
    }
   ],
   "source": [
    "print(test_numbers)"
   ]
  },
  {
   "cell_type": "code",
   "execution_count": 71,
   "metadata": {},
   "outputs": [
    {
     "name": "stdout",
     "output_type": "stream",
     "text": [
      "None\n"
     ]
    }
   ],
   "source": [
    "sort_result = test_numbers.sort()\n",
    "print(sort_result)"
   ]
  },
  {
   "cell_type": "code",
   "execution_count": 72,
   "metadata": {},
   "outputs": [
    {
     "name": "stdout",
     "output_type": "stream",
     "text": [
      "[1, 3, 20, 41, 56, 68, 69, 84, 89, 90]\n"
     ]
    }
   ],
   "source": [
    "print(test_numbers)"
   ]
  },
  {
   "cell_type": "code",
   "execution_count": null,
   "metadata": {},
   "outputs": [],
   "source": []
  }
 ],
 "metadata": {
  "kernelspec": {
   "display_name": "Python 3",
   "language": "python",
   "name": "python3"
  },
  "language_info": {
   "codemirror_mode": {
    "name": "ipython",
    "version": 3
   },
   "file_extension": ".py",
   "mimetype": "text/x-python",
   "name": "python",
   "nbconvert_exporter": "python",
   "pygments_lexer": "ipython3",
   "version": "3.7.1"
  }
 },
 "nbformat": 4,
 "nbformat_minor": 2
}
