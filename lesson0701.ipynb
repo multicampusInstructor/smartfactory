{
 "cells": [
  {
   "cell_type": "code",
   "execution_count": 3,
   "metadata": {},
   "outputs": [
    {
     "name": "stdout",
     "output_type": "stream",
     "text": [
      "0\n"
     ]
    }
   ],
   "source": [
    "#크기,추가,삭제,조회,변경\n",
    "my_list = []\n",
    "size = len(my_list)\n",
    "print(size)"
   ]
  },
  {
   "cell_type": "code",
   "execution_count": 7,
   "metadata": {},
   "outputs": [],
   "source": [
    "my_list.append(1)\n",
    "my_list.append(2)\n",
    "my_list.append(3)"
   ]
  },
  {
   "cell_type": "code",
   "execution_count": 8,
   "metadata": {},
   "outputs": [
    {
     "name": "stdout",
     "output_type": "stream",
     "text": [
      "4\n"
     ]
    }
   ],
   "source": [
    "size = len(my_list)\n",
    "print(size)"
   ]
  },
  {
   "cell_type": "code",
   "execution_count": 9,
   "metadata": {},
   "outputs": [
    {
     "data": {
      "text/plain": [
       "[1, 1, 2, 3]"
      ]
     },
     "execution_count": 9,
     "metadata": {},
     "output_type": "execute_result"
    }
   ],
   "source": [
    "my_list"
   ]
  },
  {
   "cell_type": "code",
   "execution_count": 10,
   "metadata": {},
   "outputs": [],
   "source": [
    "del my_list[0]"
   ]
  },
  {
   "cell_type": "code",
   "execution_count": 11,
   "metadata": {},
   "outputs": [
    {
     "data": {
      "text/plain": [
       "[1, 2, 3]"
      ]
     },
     "execution_count": 11,
     "metadata": {},
     "output_type": "execute_result"
    }
   ],
   "source": [
    "my_list"
   ]
  },
  {
   "cell_type": "code",
   "execution_count": 12,
   "metadata": {},
   "outputs": [],
   "source": [
    "value = my_list.pop()"
   ]
  },
  {
   "cell_type": "code",
   "execution_count": 13,
   "metadata": {},
   "outputs": [
    {
     "name": "stdout",
     "output_type": "stream",
     "text": [
      "3\n"
     ]
    }
   ],
   "source": [
    "print(value)"
   ]
  },
  {
   "cell_type": "code",
   "execution_count": 14,
   "metadata": {},
   "outputs": [
    {
     "data": {
      "text/plain": [
       "[1, 2]"
      ]
     },
     "execution_count": 14,
     "metadata": {},
     "output_type": "execute_result"
    }
   ],
   "source": [
    "my_list"
   ]
  },
  {
   "cell_type": "code",
   "execution_count": 15,
   "metadata": {},
   "outputs": [],
   "source": [
    "my_list.append(3)"
   ]
  },
  {
   "cell_type": "code",
   "execution_count": 16,
   "metadata": {},
   "outputs": [
    {
     "data": {
      "text/plain": [
       "[1, 2, 3]"
      ]
     },
     "execution_count": 16,
     "metadata": {},
     "output_type": "execute_result"
    }
   ],
   "source": [
    "my_list"
   ]
  },
  {
   "cell_type": "code",
   "execution_count": 17,
   "metadata": {},
   "outputs": [
    {
     "data": {
      "text/plain": [
       "1"
      ]
     },
     "execution_count": 17,
     "metadata": {},
     "output_type": "execute_result"
    }
   ],
   "source": [
    "my_list[0]"
   ]
  },
  {
   "cell_type": "code",
   "execution_count": 18,
   "metadata": {},
   "outputs": [
    {
     "data": {
      "text/plain": [
       "2"
      ]
     },
     "execution_count": 18,
     "metadata": {},
     "output_type": "execute_result"
    }
   ],
   "source": [
    "my_list[1]"
   ]
  },
  {
   "cell_type": "code",
   "execution_count": 19,
   "metadata": {},
   "outputs": [
    {
     "data": {
      "text/plain": [
       "3"
      ]
     },
     "execution_count": 19,
     "metadata": {},
     "output_type": "execute_result"
    }
   ],
   "source": [
    "my_list[2]"
   ]
  },
  {
   "cell_type": "code",
   "execution_count": 55,
   "metadata": {},
   "outputs": [],
   "source": [
    "my_list[2] = 30"
   ]
  },
  {
   "cell_type": "code",
   "execution_count": 20,
   "metadata": {},
   "outputs": [
    {
     "name": "stdout",
     "output_type": "stream",
     "text": [
      "1\n",
      "2\n",
      "3\n"
     ]
    }
   ],
   "source": [
    "for i in my_list:\n",
    "    print(i)"
   ]
  },
  {
   "cell_type": "code",
   "execution_count": 21,
   "metadata": {},
   "outputs": [
    {
     "data": {
      "text/plain": [
       "0"
      ]
     },
     "execution_count": 21,
     "metadata": {},
     "output_type": "execute_result"
    }
   ],
   "source": [
    "my_dic = {}\n",
    "len(my_dic)"
   ]
  },
  {
   "cell_type": "code",
   "execution_count": 23,
   "metadata": {},
   "outputs": [],
   "source": [
    "my_dic['one'] = 1\n",
    "my_dic['tow'] = 2\n",
    "my_dic['three'] = 30"
   ]
  },
  {
   "cell_type": "code",
   "execution_count": null,
   "metadata": {},
   "outputs": [],
   "source": []
  },
  {
   "cell_type": "code",
   "execution_count": 24,
   "metadata": {},
   "outputs": [
    {
     "data": {
      "text/plain": [
       "3"
      ]
     },
     "execution_count": 24,
     "metadata": {},
     "output_type": "execute_result"
    }
   ],
   "source": [
    "len(my_dic)"
   ]
  },
  {
   "cell_type": "code",
   "execution_count": 25,
   "metadata": {},
   "outputs": [],
   "source": [
    "my_dic['four'] = 4"
   ]
  },
  {
   "cell_type": "code",
   "execution_count": 26,
   "metadata": {},
   "outputs": [
    {
     "data": {
      "text/plain": [
       "{'one': 1, 'tow': 2, 'three': 30, 'four': 4}"
      ]
     },
     "execution_count": 26,
     "metadata": {},
     "output_type": "execute_result"
    }
   ],
   "source": [
    "my_dic"
   ]
  },
  {
   "cell_type": "code",
   "execution_count": 27,
   "metadata": {},
   "outputs": [],
   "source": [
    "del my_dic['four']"
   ]
  },
  {
   "cell_type": "code",
   "execution_count": 28,
   "metadata": {},
   "outputs": [
    {
     "data": {
      "text/plain": [
       "{'one': 1, 'tow': 2, 'three': 30}"
      ]
     },
     "execution_count": 28,
     "metadata": {},
     "output_type": "execute_result"
    }
   ],
   "source": [
    "my_dic"
   ]
  },
  {
   "cell_type": "code",
   "execution_count": 29,
   "metadata": {},
   "outputs": [
    {
     "data": {
      "text/plain": [
       "30"
      ]
     },
     "execution_count": 29,
     "metadata": {},
     "output_type": "execute_result"
    }
   ],
   "source": [
    "my_dic['three']"
   ]
  },
  {
   "cell_type": "code",
   "execution_count": 34,
   "metadata": {},
   "outputs": [],
   "source": [
    "my_dic['three'] = 3\n",
    "my_dic['two'] = 2"
   ]
  },
  {
   "cell_type": "code",
   "execution_count": 31,
   "metadata": {},
   "outputs": [
    {
     "data": {
      "text/plain": [
       "3"
      ]
     },
     "execution_count": 31,
     "metadata": {},
     "output_type": "execute_result"
    }
   ],
   "source": [
    "my_dic['three']"
   ]
  },
  {
   "cell_type": "code",
   "execution_count": 32,
   "metadata": {},
   "outputs": [
    {
     "data": {
      "text/plain": [
       "{'one': 1, 'tow': 2, 'three': 3}"
      ]
     },
     "execution_count": 32,
     "metadata": {},
     "output_type": "execute_result"
    }
   ],
   "source": [
    "my_dic"
   ]
  },
  {
   "cell_type": "code",
   "execution_count": 44,
   "metadata": {},
   "outputs": [
    {
     "name": "stdout",
     "output_type": "stream",
     "text": [
      "key = one, value=1\n",
      "key = three, value=3\n",
      "key = two, value=2\n"
     ]
    }
   ],
   "source": [
    "for key in my_dic:\n",
    "#     print(key)\n",
    "#     print(my_dic[key])\n",
    "    print(\"key = {}, value={}\".format(key,my_dic[key]))#코드를 완성하시오"
   ]
  },
  {
   "cell_type": "code",
   "execution_count": 38,
   "metadata": {},
   "outputs": [],
   "source": [
    "del my_dic['tow']"
   ]
  },
  {
   "cell_type": "code",
   "execution_count": 39,
   "metadata": {},
   "outputs": [
    {
     "data": {
      "text/plain": [
       "{'one': 1, 'three': 3, 'two': 2}"
      ]
     },
     "execution_count": 39,
     "metadata": {},
     "output_type": "execute_result"
    }
   ],
   "source": [
    "my_dic"
   ]
  },
  {
   "cell_type": "code",
   "execution_count": 47,
   "metadata": {},
   "outputs": [],
   "source": [
    "range(10)#0~9를 내부적으로 생성하여 가지고 있음\n",
    "numbers = list(range(1,10+1))"
   ]
  },
  {
   "cell_type": "code",
   "execution_count": 48,
   "metadata": {},
   "outputs": [
    {
     "name": "stdout",
     "output_type": "stream",
     "text": [
      "[1, 2, 3, 4, 5, 6, 7, 8, 9, 10]\n"
     ]
    }
   ],
   "source": [
    "print(numbers)"
   ]
  },
  {
   "cell_type": "code",
   "execution_count": 49,
   "metadata": {},
   "outputs": [
    {
     "name": "stdout",
     "output_type": "stream",
     "text": [
      "4 8\n"
     ]
    }
   ],
   "source": [
    "#위의 numbers를 섞어서 출력하시오\n",
    "#인덱스가 0~9인 임의수 2개를 생성해서 \n",
    "#해당 자리의 데이터를 교환하다.\n",
    "#위의 작업을 적절히 반복한다.(10번)\n",
    "import random\n",
    "index1 = random.randrange(0,9+1)\n",
    "index2 = random.randrange(0,9+1)\n",
    "print(index1,index2)"
   ]
  },
  {
   "cell_type": "code",
   "execution_count": 53,
   "metadata": {},
   "outputs": [
    {
     "name": "stdout",
     "output_type": "stream",
     "text": [
      "[9, 5, 7, 10, 4, 8, 6, 1, 3, 2]\n"
     ]
    }
   ],
   "source": [
    "for _ in range(10):\n",
    "    index1 = random.randrange(0,9+1)\n",
    "    index2 = random.randrange(0,9+1)\n",
    "    temp = numbers[index1]\n",
    "    numbers[index1] = numbers[index2]\n",
    "    numbers[index2] = temp\n",
    "\n",
    "print(numbers)\n"
   ]
  },
  {
   "cell_type": "code",
   "execution_count": 63,
   "metadata": {},
   "outputs": [],
   "source": [
    "numbers = numbers[:5]"
   ]
  },
  {
   "cell_type": "code",
   "execution_count": 68,
   "metadata": {},
   "outputs": [
    {
     "name": "stdout",
     "output_type": "stream",
     "text": [
      "[10, 9, 7, 5, 4]\n"
     ]
    }
   ],
   "source": [
    "for idx1 in range(len(numbers)-1):\n",
    "    #print(idx1)\n",
    "    for idx2 in range(idx1+1,len(numbers)):\n",
    "        if numbers[idx1] < numbers[idx2]:\n",
    "            temp = numbers[idx1];\n",
    "            numbers[idx1] = numbers[idx2]\n",
    "            numbers[idx2] = temp\n",
    "        #print(idx1,idx2)\n",
    "    #print()\n",
    "    \n",
    "print(numbers)"
   ]
  },
  {
   "cell_type": "code",
   "execution_count": 69,
   "metadata": {},
   "outputs": [
    {
     "data": {
      "text/plain": [
       "1000"
      ]
     },
     "execution_count": 69,
     "metadata": {},
     "output_type": "execute_result"
    }
   ],
   "source": [
    "path = './data/Abc1115.csv'\n",
    "file = open(path,'r')\n",
    "lines = file.readlines()\n",
    "len(lines)"
   ]
  },
  {
   "cell_type": "code",
   "execution_count": 72,
   "metadata": {},
   "outputs": [
    {
     "data": {
      "text/plain": [
       "['990001,addx, 17, 29, 16, 49, 43,154,C,A,C\\n',\n",
       " '990002,stch, 30,  9, 48, 25, 81,193,C,A,A\\n',\n",
       " '990003,gali, 93, 60,  6, 84, 36,279,A,C,A\\n',\n",
       " '990004,miat, 73, 22, 48, 24, 72,239,B,C,C\\n',\n",
       " '990005,oran, 33, 38, 59, 58, 28,216,C,B,A\\n',\n",
       " '990006,sj24, 27, 65, 54, 77, 33,256,B,A,A\\n',\n",
       " '990007,kor2, 33, 85, 98, 60, 66,342,A,B,A\\n',\n",
       " '990008,vsky, 41,  5, 99, 14, 67,226,C,A,C\\n',\n",
       " '990009,kimd, 74,  4,  1, 33, 53,165,B,C,A\\n',\n",
       " '990010,blue, 55, 84, 50, 89, 37,315,A,B,A\\n']"
      ]
     },
     "execution_count": 72,
     "metadata": {},
     "output_type": "execute_result"
    }
   ],
   "source": [
    "type(lines)\n",
    "lines[0:10]"
   ]
  },
  {
   "cell_type": "code",
   "execution_count": 85,
   "metadata": {},
   "outputs": [],
   "source": [
    "#lines를 한 줄씩 출력하시오\n",
    "#한줄을 ,로 분리하고 분리한 것을 리스트에 추가하는 코드 작성\n",
    "student_info = []\n",
    "for line in lines:\n",
    "    temp = line[0:-1].split(',')\n",
    "    #temp가 가지는 원소중 숫자를 골라서 int()를 이용하여 정수로 수정한다.\n",
    "    for i in range(8):\n",
    "        if i == 1:\n",
    "            continue\n",
    "        temp[i] = int(temp[i])\n",
    "    student_info.append(temp)\n",
    "#     print(temp)\n",
    "#     break"
   ]
  },
  {
   "cell_type": "code",
   "execution_count": 86,
   "metadata": {},
   "outputs": [
    {
     "data": {
      "text/plain": [
       "[[990001, 'addx', 17, 29, 16, 49, 43, 154, 'C', 'A', 'C']]"
      ]
     },
     "execution_count": 86,
     "metadata": {},
     "output_type": "execute_result"
    }
   ],
   "source": [
    "student_info[:10]"
   ]
  },
  {
   "cell_type": "code",
   "execution_count": 90,
   "metadata": {},
   "outputs": [],
   "source": [
    "student_info = []\n",
    "for line in lines:\n",
    "    temp = line[0:-1].split(',')\n",
    "    #temp가 가지는 원소중 숫자를 골라서 int()를 이용하여 정수로 수정한다.\n",
    "    for i in range(8):\n",
    "        if temp[i].strip().isnumeric():\n",
    "            temp[i] = int(temp[i])\n",
    "    student_info.append(temp)"
   ]
  },
  {
   "cell_type": "code",
   "execution_count": 91,
   "metadata": {},
   "outputs": [
    {
     "data": {
      "text/plain": [
       "[[990001, 'addx', 17, 29, 16, 49, 43, 154, 'C', 'A', 'C'],\n",
       " [990002, 'stch', 30, 9, 48, 25, 81, 193, 'C', 'A', 'A'],\n",
       " [990003, 'gali', 93, 60, 6, 84, 36, 279, 'A', 'C', 'A'],\n",
       " [990004, 'miat', 73, 22, 48, 24, 72, 239, 'B', 'C', 'C'],\n",
       " [990005, 'oran', 33, 38, 59, 58, 28, 216, 'C', 'B', 'A'],\n",
       " [990006, 'sj24', 27, 65, 54, 77, 33, 256, 'B', 'A', 'A'],\n",
       " [990007, 'kor2', 33, 85, 98, 60, 66, 342, 'A', 'B', 'A'],\n",
       " [990008, 'vsky', 41, 5, 99, 14, 67, 226, 'C', 'A', 'C'],\n",
       " [990009, 'kimd', 74, 4, 1, 33, 53, 165, 'B', 'C', 'A'],\n",
       " [990010, 'blue', 55, 84, 50, 89, 37, 315, 'A', 'B', 'A']]"
      ]
     },
     "execution_count": 91,
     "metadata": {},
     "output_type": "execute_result"
    }
   ],
   "source": [
    "student_info[:10]"
   ]
  },
  {
   "cell_type": "code",
   "execution_count": 96,
   "metadata": {},
   "outputs": [],
   "source": [
    "quiz1 = []\n",
    "for stu in student_info:\n",
    "    temp = []\n",
    "    if stu[10]=='B':\n",
    "        temp.append(stu[0])\n",
    "        temp.append(stu[2])\n",
    "        temp.append(stu[3])\n",
    "        temp.append(stu[2]+stu[3])\n",
    "        temp.append(stu[10])\n",
    "        quiz1.append(temp)\n",
    "#     break"
   ]
  },
  {
   "cell_type": "code",
   "execution_count": 98,
   "metadata": {},
   "outputs": [
    {
     "name": "stdout",
     "output_type": "stream",
     "text": [
      "300\n"
     ]
    }
   ],
   "source": [
    "print(len(quiz1))"
   ]
  },
  {
   "cell_type": "code",
   "execution_count": 102,
   "metadata": {},
   "outputs": [
    {
     "data": {
      "text/plain": [
       "[[990021, 13, 95, 108, 'B'],\n",
       " [990023, 86, 71, 157, 'B'],\n",
       " [990025, 24, 90, 114, 'B'],\n",
       " [990026, 65, 4, 69, 'B'],\n",
       " [990029, 3, 11, 14, 'B'],\n",
       " [990031, 5, 73, 78, 'B'],\n",
       " [990032, 90, 18, 108, 'B'],\n",
       " [990035, 31, 37, 68, 'B'],\n",
       " [990036, 1, 59, 60, 'B'],\n",
       " [990038, 43, 48, 91, 'B']]"
      ]
     },
     "execution_count": 102,
     "metadata": {},
     "output_type": "execute_result"
    }
   ],
   "source": [
    "quiz1[:10]"
   ]
  },
  {
   "cell_type": "code",
   "execution_count": 111,
   "metadata": {},
   "outputs": [],
   "source": [
    "for idx1 in range(len(quiz1)-1):\n",
    "    for idx2 in range(idx1+1,len(quiz1)):\n",
    "        if quiz1[idx1][3] < quiz1[idx2][3]:\n",
    "            temp = quiz1[idx1]\n",
    "            quiz1[idx1] = quiz1[idx2]\n",
    "            quiz1[idx2] = temp\n",
    "            pass\n",
    "        pass\n",
    "    pass\n",
    "\n",
    "    \n",
    "    "
   ]
  },
  {
   "cell_type": "code",
   "execution_count": 113,
   "metadata": {},
   "outputs": [
    {
     "data": {
      "text/plain": [
       "[[990949, 97, 95, 192, 'B'],\n",
       " [990422, 93, 97, 190, 'B'],\n",
       " [990938, 100, 87, 187, 'B'],\n",
       " [990491, 84, 100, 184, 'B'],\n",
       " [990490, 84, 96, 180, 'B'],\n",
       " [990066, 88, 87, 175, 'B'],\n",
       " [990710, 85, 87, 172, 'B'],\n",
       " [990852, 96, 76, 172, 'B'],\n",
       " [990595, 99, 70, 169, 'B'],\n",
       " [990907, 71, 95, 166, 'B'],\n",
       " [990631, 91, 73, 164, 'B'],\n",
       " [990747, 67, 96, 163, 'B'],\n",
       " [990891, 99, 64, 163, 'B'],\n",
       " [990935, 94, 67, 161, 'B'],\n",
       " [990470, 79, 80, 159, 'B'],\n",
       " [990350, 76, 83, 159, 'B'],\n",
       " [990023, 86, 71, 157, 'B'],\n",
       " [990217, 64, 93, 157, 'B'],\n",
       " [990424, 81, 72, 153, 'B'],\n",
       " [990418, 87, 66, 153, 'B']]"
      ]
     },
     "execution_count": 113,
     "metadata": {},
     "output_type": "execute_result"
    }
   ],
   "source": [
    "quiz1[:20]"
   ]
  },
  {
   "cell_type": "code",
   "execution_count": 108,
   "metadata": {},
   "outputs": [
    {
     "name": "stdout",
     "output_type": "stream",
     "text": [
      "990490\n"
     ]
    }
   ],
   "source": [
    "answer = quiz1[4][0]\n",
    "print(answer)"
   ]
  },
  {
   "cell_type": "code",
   "execution_count": null,
   "metadata": {},
   "outputs": [],
   "source": []
  }
 ],
 "metadata": {
  "kernelspec": {
   "display_name": "Python 3",
   "language": "python",
   "name": "python3"
  },
  "language_info": {
   "codemirror_mode": {
    "name": "ipython",
    "version": 3
   },
   "file_extension": ".py",
   "mimetype": "text/x-python",
   "name": "python",
   "nbconvert_exporter": "python",
   "pygments_lexer": "ipython3",
   "version": "3.7.1"
  }
 },
 "nbformat": 4,
 "nbformat_minor": 2
}
