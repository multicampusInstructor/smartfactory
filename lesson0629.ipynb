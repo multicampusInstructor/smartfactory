{
 "cells": [
  {
   "cell_type": "code",
   "execution_count": 3,
   "metadata": {},
   "outputs": [
    {
     "name": "stdout",
     "output_type": "stream",
     "text": [
      "2022년 6월\n",
      "일\t월\t화\t수\t목\t금\t토\n",
      "\t\t\t1\t2\t3\t4\n",
      "5\t6\t7\t8\t9\t10\t11\n",
      "12\t13\t14\t15\t16\t17\t18\n",
      "19\t20\t21\t22\t23\t24\t25\n",
      "26\t27\t28\t29\t30\n"
     ]
    }
   ],
   "source": [
    "print(\"2022년 6월\")\n",
    "print(\"일\\t월\\t화\\t수\\t목\\t금\\t토\")\n",
    "print(\"\\t\\t\\t1\\t2\\t3\\t4\")\n",
    "print(\"5\\t6\\t7\\t8\\t9\\t10\\t11\")\n",
    "print(\"12\\t13\\t14\\t15\\t16\\t17\\t18\")\n",
    "print(\"19\\t20\\t21\\t22\\t23\\t24\\t25\")\n",
    "print(\"26\\t27\\t28\\t29\\t30\")"
   ]
  },
  {
   "cell_type": "code",
   "execution_count": 14,
   "metadata": {},
   "outputs": [],
   "source": [
    "def view_calendar():\n",
    "    print(\"2022년 6월\")\n",
    "    print(\"일\\t월\\t화\\t수\\t목\\t금\\t토\")\n",
    "    print(\"\\t\\t\\t\",end='')\n",
    "    for n in range(1,30+1):\n",
    "        print(n,\"\\t\",end='')#1~30\n",
    "        if n == 4 or n == 11 or n == 18 or n == 25:\n",
    "            print()\n",
    "            \n",
    "def view_calendar_v2():\n",
    "    print(\"2022년 6월\")\n",
    "    print(\"일\\t월\\t화\\t수\\t목\\t금\\t토\")\n",
    "    print(\"\\t\\t\\t\",end='')\n",
    "    for n in range(1,30+1):\n",
    "        print(n,\"\\t\",end='')#1~30\n",
    "        if n % 7 == 4:\n",
    "            print()\n"
   ]
  },
  {
   "cell_type": "code",
   "execution_count": 31,
   "metadata": {},
   "outputs": [],
   "source": [
    "def view_calendar_v3(month):\n",
    "    print(\"2022년 {}월\".format(month))\n",
    "    print(\"일\\t월\\t화\\t수\\t목\\t금\\t토\")\n",
    "    space = [6,2,2,5,0,3,5,1,4,6,2,4]\n",
    "    last_day = [31,28,31,30,31,30,31,31,30,31,30,31]\n",
    "    for _ in range(space[month-1]):\n",
    "        print(\"\\t\",end='')\n",
    "    for n in range(1,last_day[month-1]+1):\n",
    "        print(n,\"\\t\",end='')#1~30\n",
    "        if (n+space[month-1]) % 7 == 0:\n",
    "            print()\n",
    "\n",
    "def view_calendar_v4(month,s,day):\n",
    "    print(\"2022년 {}월\".format(month))\n",
    "    print(\"일\\t월\\t화\\t수\\t목\\t금\\t토\")\n",
    "    space = s\n",
    "    last_day = day\n",
    "    for _ in range(space):\n",
    "        print(\"\\t\",end='')\n",
    "    for n in range(1,last_day+1):\n",
    "        print(n,\"\\t\",end='')#1~30\n",
    "        if (n+space) % 7 == 0:\n",
    "            print()"
   ]
  },
  {
   "cell_type": "code",
   "execution_count": 32,
   "metadata": {},
   "outputs": [
    {
     "name": "stdout",
     "output_type": "stream",
     "text": [
      "2022년 12월\n",
      "일\t월\t화\t수\t목\t금\t토\n",
      "\t\t\t\t1 \t2 \t3 \t\n",
      "4 \t5 \t6 \t7 \t8 \t9 \t10 \t\n",
      "11 \t12 \t13 \t14 \t15 \t16 \t17 \t\n",
      "18 \t19 \t20 \t21 \t22 \t23 \t24 \t\n",
      "25 \t26 \t27 \t28 \t29 \t30 \t31 \t\n"
     ]
    }
   ],
   "source": [
    "view_calendar_v3(12)"
   ]
  },
  {
   "cell_type": "code",
   "execution_count": 25,
   "metadata": {},
   "outputs": [
    {
     "name": "stdout",
     "output_type": "stream",
     "text": [
      "h\n"
     ]
    }
   ],
   "source": [
    "a = \"hello\"\n",
    "print(a[0])"
   ]
  },
  {
   "cell_type": "code",
   "execution_count": 28,
   "metadata": {},
   "outputs": [
    {
     "name": "stdout",
     "output_type": "stream",
     "text": [
      "['kim', '34', '32', '23']\n",
      "kim\n"
     ]
    }
   ],
   "source": [
    "info = \"kim,34,32,23\"\n",
    "data = info.split(',')\n",
    "print(data)\n",
    "print(data[0])"
   ]
  },
  {
   "cell_type": "code",
   "execution_count": 33,
   "metadata": {},
   "outputs": [
    {
     "data": {
      "text/plain": [
       "['h', 'e', 'l', 'l', 'o']"
      ]
     },
     "execution_count": 33,
     "metadata": {},
     "output_type": "execute_result"
    }
   ],
   "source": [
    "list('hello')"
   ]
  },
  {
   "cell_type": "code",
   "execution_count": 34,
   "metadata": {},
   "outputs": [
    {
     "data": {
      "text/plain": [
       "[0, 1, 2, 3, 4, 5, 6, 7, 8, 9]"
      ]
     },
     "execution_count": 34,
     "metadata": {},
     "output_type": "execute_result"
    }
   ],
   "source": [
    "list(range(10))"
   ]
  },
  {
   "cell_type": "code",
   "execution_count": 46,
   "metadata": {},
   "outputs": [
    {
     "name": "stdout",
     "output_type": "stream",
     "text": [
      "1 2 3 4 5 6 7 8 9 10 \n",
      "55\n"
     ]
    }
   ],
   "source": [
    "total = 0\n",
    "for k in range(1,10+1):\n",
    "#     total += k\n",
    "    total = total + k\n",
    "    print(k,end=\" \")#k=1~10\n",
    "print()\n",
    "print(total)"
   ]
  },
  {
   "cell_type": "code",
   "execution_count": 39,
   "metadata": {},
   "outputs": [
    {
     "data": {
      "text/plain": [
       "[1, 2, 3, 4, 5, 6, 7, 8, 9, 10]"
      ]
     },
     "execution_count": 39,
     "metadata": {},
     "output_type": "execute_result"
    }
   ],
   "source": [
    "list(range(1,10+1))"
   ]
  },
  {
   "cell_type": "code",
   "execution_count": 59,
   "metadata": {},
   "outputs": [],
   "source": [
    "def calcu_total(num1,num2):\n",
    "    total = 0\n",
    "    if num1>num2:\n",
    "        temp = num1\n",
    "        num1 = num2\n",
    "        num2 = temp\n",
    "    for k in range(num1,num2+1):\n",
    "        total = total + k\n",
    "    print(total)"
   ]
  },
  {
   "cell_type": "code",
   "execution_count": 60,
   "metadata": {},
   "outputs": [
    {
     "name": "stdout",
     "output_type": "stream",
     "text": [
      "55\n"
     ]
    }
   ],
   "source": [
    "calcu_total(10,1)"
   ]
  },
  {
   "cell_type": "code",
   "execution_count": 61,
   "metadata": {},
   "outputs": [],
   "source": [
    "import random"
   ]
  },
  {
   "cell_type": "code",
   "execution_count": 62,
   "metadata": {},
   "outputs": [
    {
     "name": "stdout",
     "output_type": "stream",
     "text": [
      "0.02737864743612939\n"
     ]
    }
   ],
   "source": [
    "a = random.random()#0.0<=rnd<1.0\n",
    "print(a)"
   ]
  },
  {
   "cell_type": "code",
   "execution_count": 63,
   "metadata": {},
   "outputs": [
    {
     "name": "stdout",
     "output_type": "stream",
     "text": [
      "94\n"
     ]
    }
   ],
   "source": [
    "b = random.randrange(1,100+1)\n",
    "print(b)"
   ]
  },
  {
   "cell_type": "code",
   "execution_count": 83,
   "metadata": {},
   "outputs": [
    {
     "name": "stdout",
     "output_type": "stream",
     "text": [
      "45 [45, 10, 13, 15, 35, 25, 8, 24, 27, 11, 4, 9, 6, 16, 2, 28, 34, 41, 22, 21, 33, 20, 19, 42, 37, 39, 40, 23, 29, 44, 17, 31, 1, 32, 12, 14, 7, 38, 43, 3, 26, 30, 18, 36, 5]\n"
     ]
    }
   ],
   "source": [
    "number_list = []\n",
    "while True:\n",
    "    temp = random.randrange(1,45+1)\n",
    "    if temp not in number_list:\n",
    "        number_list.append(temp)\n",
    "        \n",
    "    if len(number_list)==45:\n",
    "        break\n",
    "\n",
    "print(len(number_list),number_list)"
   ]
  },
  {
   "cell_type": "code",
   "execution_count": 80,
   "metadata": {},
   "outputs": [
    {
     "name": "stdout",
     "output_type": "stream",
     "text": [
      "96\n"
     ]
    }
   ],
   "source": [
    "max = number_list[0]\n",
    "for val in number_list[1:]:\n",
    "#     print(val,end=' ')\n",
    "    if val > max:\n",
    "        max = val\n",
    "    pass\n",
    "\n",
    "print(max)"
   ]
  },
  {
   "cell_type": "code",
   "execution_count": 79,
   "metadata": {},
   "outputs": [
    {
     "name": "stdout",
     "output_type": "stream",
     "text": [
      "[26, 39, 96, 16, 19, 1, 93, 59]\n"
     ]
    }
   ],
   "source": [
    "# a = number_list[1:len(number_list)]\n",
    "# a = number_list[1:10]\n",
    "# a = number_list[1:]\n",
    "a = number_list[1:-1]\n",
    "print(a)"
   ]
  },
  {
   "cell_type": "code",
   "execution_count": null,
   "metadata": {},
   "outputs": [],
   "source": []
  }
 ],
 "metadata": {
  "kernelspec": {
   "display_name": "Python 3",
   "language": "python",
   "name": "python3"
  },
  "language_info": {
   "codemirror_mode": {
    "name": "ipython",
    "version": 3
   },
   "file_extension": ".py",
   "mimetype": "text/x-python",
   "name": "python",
   "nbconvert_exporter": "python",
   "pygments_lexer": "ipython3",
   "version": "3.7.1"
  }
 },
 "nbformat": 4,
 "nbformat_minor": 2
}
