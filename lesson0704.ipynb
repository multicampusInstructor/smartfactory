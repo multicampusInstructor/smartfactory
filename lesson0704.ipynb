{
 "cells": [
  {
   "cell_type": "code",
   "execution_count": 1,
   "metadata": {},
   "outputs": [],
   "source": [
    "file = open('./data/Abc1115.csv','r')\n",
    "lines = file.readlines()\n",
    "file.close()"
   ]
  },
  {
   "cell_type": "code",
   "execution_count": 2,
   "metadata": {},
   "outputs": [
    {
     "data": {
      "text/plain": [
       "1000"
      ]
     },
     "execution_count": 2,
     "metadata": {},
     "output_type": "execute_result"
    }
   ],
   "source": [
    "len(lines)"
   ]
  },
  {
   "cell_type": "code",
   "execution_count": 47,
   "metadata": {},
   "outputs": [],
   "source": [
    "prop_keys = {'학번':0,'이메일':1,'국어':2,'영어':3,'수학':4,'과학':5,'국사':6,'총점':7,'담임코드':8,'성취도':9,'지역코드':10}"
   ]
  },
  {
   "cell_type": "code",
   "execution_count": 11,
   "metadata": {},
   "outputs": [],
   "source": [
    "student_info = []\n",
    "for line in lines:\n",
    "    temp = line[:-1].split(',')\n",
    "#     print(temp)\n",
    "    for index in range(8):\n",
    "        if temp[index].strip().isdigit():\n",
    "            temp[index] = int(temp[index])\n",
    "    student_info.append(temp)\n",
    "    pass\n",
    "\n",
    "# student_info"
   ]
  },
  {
   "cell_type": "code",
   "execution_count": 48,
   "metadata": {},
   "outputs": [],
   "source": [
    "quiz1 = []\n",
    "for student in student_info:\n",
    "#     print(student)\n",
    "    if student[10] == 'B':\n",
    "        temp = [student[prop_keys['학번']],student[prop_keys['국어']],student[prop_keys['영어']],student[prop_keys['국어']]+student[prop_keys['영어']],student[prop_keys['지역코드']]]\n",
    "        quiz1.append(temp)\n",
    "    pass\n",
    "\n",
    "# quiz1[:3]"
   ]
  },
  {
   "cell_type": "code",
   "execution_count": 49,
   "metadata": {},
   "outputs": [
    {
     "data": {
      "text/plain": [
       "300"
      ]
     },
     "execution_count": 49,
     "metadata": {},
     "output_type": "execute_result"
    }
   ],
   "source": [
    "len(quiz1)"
   ]
  },
  {
   "cell_type": "code",
   "execution_count": 50,
   "metadata": {},
   "outputs": [
    {
     "name": "stdout",
     "output_type": "stream",
     "text": [
      "[[990949, 97, 95, 192, 'B'], [990422, 93, 97, 190, 'B'], [990938, 100, 87, 187, 'B']]\n",
      "990490\n"
     ]
    }
   ],
   "source": [
    "#quiz1에 대하여 4번째 자료 기준으로 내림차순하시오.\n",
    "for idx1 in range(len(quiz1)-1):\n",
    "    for idx2 in range(idx1+1, len(quiz1)):\n",
    "        if quiz1[idx1][3] < quiz1[idx2][3]:\n",
    "            temp = quiz1[idx1]\n",
    "            quiz1[idx1] = quiz1[idx2]\n",
    "            quiz1[idx2] = temp\n",
    "            pass\n",
    "        elif quiz1[idx1][3] == quiz1[idx2][3]:\n",
    "            if quiz1[idx1][0] > quiz1[idx2][0]:\n",
    "                temp = quiz1[idx1]\n",
    "                quiz1[idx1] = quiz1[idx2]\n",
    "                quiz1[idx2] = temp\n",
    "        pass\n",
    "    pass\n",
    "print(quiz1[:3])\n",
    "print(quiz1[4][0])\n"
   ]
  },
  {
   "cell_type": "code",
   "execution_count": 27,
   "metadata": {},
   "outputs": [],
   "source": [
    "quiz2 = []\n",
    "for student in student_info:\n",
    "    if student[10] == 'B':\n",
    "        temp = student[2]+student[3]\n",
    "        quiz2.append(temp)\n",
    "        pass\n",
    "    pass\n",
    "        "
   ]
  },
  {
   "cell_type": "code",
   "execution_count": 28,
   "metadata": {},
   "outputs": [
    {
     "data": {
      "text/plain": [
       "[108, 157, 114, 69, 14, 78, 108, 68, 60, 91]"
      ]
     },
     "execution_count": 28,
     "metadata": {},
     "output_type": "execute_result"
    }
   ],
   "source": [
    "quiz2[:10]"
   ]
  },
  {
   "cell_type": "code",
   "execution_count": 30,
   "metadata": {},
   "outputs": [
    {
     "name": "stdout",
     "output_type": "stream",
     "text": [
      "192\n"
     ]
    }
   ],
   "source": [
    "max = quiz2[0]\n",
    "for value in quiz2[1:]:\n",
    "    if max < value:\n",
    "        max = value\n",
    "        pass\n",
    "    pass\n",
    "\n",
    "print(max)"
   ]
  },
  {
   "cell_type": "code",
   "execution_count": 37,
   "metadata": {},
   "outputs": [],
   "source": [
    "quiz3 = []\n",
    "for student in student_info:\n",
    "    if student[3]+student[4] >= 120:\n",
    "        if student[9] == 'A':\n",
    "            point = 5\n",
    "        elif student[9] == 'B':\n",
    "            point = 15\n",
    "        elif student[9] == 'C':\n",
    "            point = 20\n",
    "        temp = [student[3],student[4],student[7],student[9],point]\n",
    "        quiz3.append(temp)\n",
    "    pass\n"
   ]
  },
  {
   "cell_type": "code",
   "execution_count": 38,
   "metadata": {},
   "outputs": [
    {
     "data": {
      "text/plain": [
       "[[85, 98, 342, 'B', 15], [84, 50, 315, 'B', 15], [69, 68, 295, 'A', 5]]"
      ]
     },
     "execution_count": 38,
     "metadata": {},
     "output_type": "execute_result"
    }
   ],
   "source": [
    "quiz3[:3]"
   ]
  },
  {
   "cell_type": "code",
   "execution_count": 39,
   "metadata": {},
   "outputs": [
    {
     "data": {
      "text/plain": [
       "316"
      ]
     },
     "execution_count": 39,
     "metadata": {},
     "output_type": "execute_result"
    }
   ],
   "source": [
    "len(quiz3)"
   ]
  },
  {
   "cell_type": "code",
   "execution_count": 40,
   "metadata": {},
   "outputs": [
    {
     "name": "stdout",
     "output_type": "stream",
     "text": [
      "99549\n"
     ]
    }
   ],
   "source": [
    "total = 0\n",
    "for value in quiz3:\n",
    "    total = total + (value[2]+value[4])\n",
    "    pass\n",
    "print(total)"
   ]
  },
  {
   "cell_type": "code",
   "execution_count": 46,
   "metadata": {},
   "outputs": [
    {
     "name": "stdout",
     "output_type": "stream",
     "text": [
      "667\n"
     ]
    }
   ],
   "source": [
    "quiz4 = []\n",
    "for student in student_info:\n",
    "    if student[9] == 'A' or student[9] == 'B':\n",
    "        if student[10] == 'A':\n",
    "            point = 5\n",
    "        elif student[10] == 'B':\n",
    "            point = 10\n",
    "        elif student[10] == 'C':\n",
    "            point = 15\n",
    "        temp = [student[2],point,student[9],student[10]]\n",
    "        quiz4.append(temp)\n",
    "        pass\n",
    "\n",
    "print(len(quiz4))\n",
    "# quiz4[:10]"
   ]
  },
  {
   "cell_type": "code",
   "execution_count": 45,
   "metadata": {},
   "outputs": [
    {
     "name": "stdout",
     "output_type": "stream",
     "text": [
      "397\n"
     ]
    }
   ],
   "source": [
    "count  = 0\n",
    "for value in quiz4:\n",
    "    if value[0]+value[1] >= 50:\n",
    "        count = count + 1\n",
    "        pass\n",
    "    pass\n",
    "\n",
    "print(count)"
   ]
  },
  {
   "cell_type": "code",
   "execution_count": 68,
   "metadata": {},
   "outputs": [],
   "source": [
    "import calendar\n",
    "#만년달력 만들기는 20분부터 합니다.\n",
    "def view_month_complete(year,month):\n",
    "    (data1,data2) = calendar.monthrange(year,month)\n",
    "#     print(data1,data2)\n",
    "    #년도와 월을 출력\n",
    "    print(\"{}년 {}월\".format(year,month))\n",
    "    print(\"일\\t월\\t화\\t수\\t목\\t금\\t토\")\n",
    "    #날이(일자) 제자리에 와야 합니다. -->1일의 요일, 말일의 날수\n",
    "    space = (data1+1)%7\n",
    "    last_day = data2\n",
    "    for _ in range(space):\n",
    "        print('\\t',end='')\n",
    "        pass\n",
    "    \n",
    "    for day in range(1,last_day+1):\n",
    "        print(day,end='\\t')\n",
    "        if (space+day)%7==0:\n",
    "            print()#선택적으로 실행\n",
    "        \n",
    "        pass\n",
    "    pass\n",
    "\n"
   ]
  },
  {
   "cell_type": "code",
   "execution_count": 69,
   "metadata": {},
   "outputs": [
    {
     "name": "stdout",
     "output_type": "stream",
     "text": [
      "6 31\n",
      "2022년 5월\n",
      "일\t월\t화\t수\t목\t금\t토\n",
      "1\t2\t3\t4\t5\t6\t7\t\n",
      "8\t9\t10\t11\t12\t13\t14\t\n",
      "15\t16\t17\t18\t19\t20\t21\t\n",
      "22\t23\t24\t25\t26\t27\t28\t\n",
      "29\t30\t31\t"
     ]
    }
   ],
   "source": [
    "view_month_complete(2022,5)"
   ]
  },
  {
   "cell_type": "code",
   "execution_count": null,
   "metadata": {},
   "outputs": [],
   "source": []
  },
  {
   "cell_type": "code",
   "execution_count": null,
   "metadata": {},
   "outputs": [],
   "source": []
  }
 ],
 "metadata": {
  "kernelspec": {
   "display_name": "Python 3",
   "language": "python",
   "name": "python3"
  },
  "language_info": {
   "codemirror_mode": {
    "name": "ipython",
    "version": 3
   },
   "file_extension": ".py",
   "mimetype": "text/x-python",
   "name": "python",
   "nbconvert_exporter": "python",
   "pygments_lexer": "ipython3",
   "version": "3.7.1"
  }
 },
 "nbformat": 4,
 "nbformat_minor": 2
}
