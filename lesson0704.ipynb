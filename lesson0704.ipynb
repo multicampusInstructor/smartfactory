{
 "cells": [
  {
   "cell_type": "code",
   "execution_count": 1,
   "metadata": {},
   "outputs": [],
   "source": [
    "file = open('./data/Abc1115.csv','r')\n",
    "lines = file.readlines()\n",
    "file.close()"
   ]
  },
  {
   "cell_type": "code",
   "execution_count": 2,
   "metadata": {},
   "outputs": [
    {
     "data": {
      "text/plain": [
       "1000"
      ]
     },
     "execution_count": 2,
     "metadata": {},
     "output_type": "execute_result"
    }
   ],
   "source": [
    "len(lines)"
   ]
  },
  {
   "cell_type": "code",
   "execution_count": 11,
   "metadata": {},
   "outputs": [],
   "source": [
    "student_info = []\n",
    "for line in lines:\n",
    "    temp = line[:-1].split(',')\n",
    "#     print(temp)\n",
    "    for index in range(8):\n",
    "        if temp[index].strip().isdigit():\n",
    "            temp[index] = int(temp[index])\n",
    "    student_info.append(temp)\n",
    "    pass\n",
    "\n",
    "# student_info"
   ]
  },
  {
   "cell_type": "code",
   "execution_count": 31,
   "metadata": {},
   "outputs": [],
   "source": [
    "quiz1 = []\n",
    "for student in student_info:\n",
    "#     print(student)\n",
    "    if student[10] == 'B':\n",
    "        temp = [student[0],student[2],student[3],student[2]+student[3],student[10]]\n",
    "        quiz1.append(temp)\n",
    "    pass\n",
    "\n",
    "# quiz1[:3]"
   ]
  },
  {
   "cell_type": "code",
   "execution_count": 32,
   "metadata": {},
   "outputs": [
    {
     "data": {
      "text/plain": [
       "300"
      ]
     },
     "execution_count": 32,
     "metadata": {},
     "output_type": "execute_result"
    }
   ],
   "source": [
    "len(quiz1)"
   ]
  },
  {
   "cell_type": "code",
   "execution_count": 33,
   "metadata": {},
   "outputs": [
    {
     "name": "stdout",
     "output_type": "stream",
     "text": [
      "[[990949, 97, 95, 192, 'B'], [990422, 93, 97, 190, 'B'], [990938, 100, 87, 187, 'B']]\n",
      "990490\n"
     ]
    }
   ],
   "source": [
    "#quiz1에 대하여 4번째 자료 기준으로 내림차순하시오.\n",
    "for idx1 in range(len(quiz1)-1):\n",
    "    for idx2 in range(idx1+1, len(quiz1)):\n",
    "        if quiz1[idx1][3] < quiz1[idx2][3]:\n",
    "            temp = quiz1[idx1]\n",
    "            quiz1[idx1] = quiz1[idx2]\n",
    "            quiz1[idx2] = temp\n",
    "            pass\n",
    "        elif quiz1[idx1][3] == quiz1[idx2][3]:\n",
    "            if quiz1[idx1][0] > quiz1[idx2][0]:\n",
    "                temp = quiz1[idx1]\n",
    "                quiz1[idx1] = quiz1[idx2]\n",
    "                quiz1[idx2] = temp\n",
    "        pass\n",
    "    pass\n",
    "print(quiz1[:3])\n",
    "print(quiz1[4][0])\n"
   ]
  },
  {
   "cell_type": "code",
   "execution_count": 27,
   "metadata": {},
   "outputs": [],
   "source": [
    "quiz2 = []\n",
    "for student in student_info:\n",
    "    if student[10] == 'B':\n",
    "        temp = student[2]+student[3]\n",
    "        quiz2.append(temp)\n",
    "        pass\n",
    "    pass\n",
    "        "
   ]
  },
  {
   "cell_type": "code",
   "execution_count": 28,
   "metadata": {},
   "outputs": [
    {
     "data": {
      "text/plain": [
       "[108, 157, 114, 69, 14, 78, 108, 68, 60, 91]"
      ]
     },
     "execution_count": 28,
     "metadata": {},
     "output_type": "execute_result"
    }
   ],
   "source": [
    "quiz2[:10]"
   ]
  },
  {
   "cell_type": "code",
   "execution_count": 30,
   "metadata": {},
   "outputs": [
    {
     "name": "stdout",
     "output_type": "stream",
     "text": [
      "192\n"
     ]
    }
   ],
   "source": [
    "max = quiz2[0]\n",
    "for value in quiz2[1:]:\n",
    "    if max < value:\n",
    "        max = value\n",
    "        pass\n",
    "    pass\n",
    "\n",
    "print(max)"
   ]
  },
  {
   "cell_type": "code",
   "execution_count": 37,
   "metadata": {},
   "outputs": [],
   "source": [
    "quiz3 = []\n",
    "for student in student_info:\n",
    "    if student[3]+student[4] >= 120:\n",
    "        if student[9] == 'A':\n",
    "            point = 5\n",
    "        elif student[9] == 'B':\n",
    "            point = 15\n",
    "        elif student[9] == 'C':\n",
    "            point = 20\n",
    "        temp = [student[3],student[4],student[7],student[9],point]\n",
    "        quiz3.append(temp)\n",
    "    pass\n"
   ]
  },
  {
   "cell_type": "code",
   "execution_count": 38,
   "metadata": {},
   "outputs": [
    {
     "data": {
      "text/plain": [
       "[[85, 98, 342, 'B', 15], [84, 50, 315, 'B', 15], [69, 68, 295, 'A', 5]]"
      ]
     },
     "execution_count": 38,
     "metadata": {},
     "output_type": "execute_result"
    }
   ],
   "source": [
    "quiz3[:3]"
   ]
  },
  {
   "cell_type": "code",
   "execution_count": 39,
   "metadata": {},
   "outputs": [
    {
     "data": {
      "text/plain": [
       "316"
      ]
     },
     "execution_count": 39,
     "metadata": {},
     "output_type": "execute_result"
    }
   ],
   "source": [
    "len(quiz3)"
   ]
  },
  {
   "cell_type": "code",
   "execution_count": 40,
   "metadata": {},
   "outputs": [
    {
     "name": "stdout",
     "output_type": "stream",
     "text": [
      "99549\n"
     ]
    }
   ],
   "source": [
    "total = 0\n",
    "for value in quiz3:\n",
    "    total = total + (value[2]+value[4])\n",
    "    pass\n",
    "print(total)"
   ]
  },
  {
   "cell_type": "code",
   "execution_count": 46,
   "metadata": {},
   "outputs": [
    {
     "name": "stdout",
     "output_type": "stream",
     "text": [
      "667\n"
     ]
    }
   ],
   "source": [
    "quiz4 = []\n",
    "for student in student_info:\n",
    "    if student[9] == 'A' or student[9] == 'B':\n",
    "        if student[10] == 'A':\n",
    "            point = 5\n",
    "        elif student[10] == 'B':\n",
    "            point = 10\n",
    "        elif student[10] == 'C':\n",
    "            point = 15\n",
    "        temp = [student[2],point,student[9],student[10]]\n",
    "        quiz4.append(temp)\n",
    "        pass\n",
    "\n",
    "print(len(quiz4))\n",
    "# quiz4[:10]"
   ]
  },
  {
   "cell_type": "code",
   "execution_count": 45,
   "metadata": {},
   "outputs": [
    {
     "name": "stdout",
     "output_type": "stream",
     "text": [
      "397\n"
     ]
    }
   ],
   "source": [
    "count  = 0\n",
    "for value in quiz4:\n",
    "    if value[0]+value[1] >= 50:\n",
    "        count = count + 1\n",
    "        pass\n",
    "    pass\n",
    "\n",
    "print(count)"
   ]
  },
  {
   "cell_type": "code",
   "execution_count": null,
   "metadata": {},
   "outputs": [],
   "source": []
  }
 ],
 "metadata": {
  "kernelspec": {
   "display_name": "Python 3",
   "language": "python",
   "name": "python3"
  },
  "language_info": {
   "codemirror_mode": {
    "name": "ipython",
    "version": 3
   },
   "file_extension": ".py",
   "mimetype": "text/x-python",
   "name": "python",
   "nbconvert_exporter": "python",
   "pygments_lexer": "ipython3",
   "version": "3.7.1"
  }
 },
 "nbformat": 4,
 "nbformat_minor": 2
}
